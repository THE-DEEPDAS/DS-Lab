{
 "cells": [
  {
   "cell_type": "code",
   "execution_count": 12,
   "id": "293c7652",
   "metadata": {},
   "outputs": [
    {
     "data": {
      "text/html": [
       "<div>\n",
       "<style scoped>\n",
       "    .dataframe tbody tr th:only-of-type {\n",
       "        vertical-align: middle;\n",
       "    }\n",
       "\n",
       "    .dataframe tbody tr th {\n",
       "        vertical-align: top;\n",
       "    }\n",
       "\n",
       "    .dataframe thead th {\n",
       "        text-align: right;\n",
       "    }\n",
       "</style>\n",
       "<table border=\"1\" class=\"dataframe\">\n",
       "  <thead>\n",
       "    <tr style=\"text-align: right;\">\n",
       "      <th></th>\n",
       "      <th>survived</th>\n",
       "      <th>pclass</th>\n",
       "      <th>sex</th>\n",
       "      <th>age</th>\n",
       "      <th>sibsp</th>\n",
       "      <th>parch</th>\n",
       "      <th>fare</th>\n",
       "      <th>embarked</th>\n",
       "      <th>class</th>\n",
       "      <th>who</th>\n",
       "      <th>adult_male</th>\n",
       "      <th>deck</th>\n",
       "      <th>embark_town</th>\n",
       "      <th>alive</th>\n",
       "      <th>alone</th>\n",
       "    </tr>\n",
       "  </thead>\n",
       "  <tbody>\n",
       "    <tr>\n",
       "      <th>0</th>\n",
       "      <td>0</td>\n",
       "      <td>3</td>\n",
       "      <td>male</td>\n",
       "      <td>22.0</td>\n",
       "      <td>1</td>\n",
       "      <td>0</td>\n",
       "      <td>7.2500</td>\n",
       "      <td>S</td>\n",
       "      <td>Third</td>\n",
       "      <td>man</td>\n",
       "      <td>True</td>\n",
       "      <td>NaN</td>\n",
       "      <td>Southampton</td>\n",
       "      <td>no</td>\n",
       "      <td>False</td>\n",
       "    </tr>\n",
       "    <tr>\n",
       "      <th>1</th>\n",
       "      <td>1</td>\n",
       "      <td>1</td>\n",
       "      <td>female</td>\n",
       "      <td>38.0</td>\n",
       "      <td>1</td>\n",
       "      <td>0</td>\n",
       "      <td>71.2833</td>\n",
       "      <td>C</td>\n",
       "      <td>First</td>\n",
       "      <td>woman</td>\n",
       "      <td>False</td>\n",
       "      <td>C</td>\n",
       "      <td>Cherbourg</td>\n",
       "      <td>yes</td>\n",
       "      <td>False</td>\n",
       "    </tr>\n",
       "    <tr>\n",
       "      <th>2</th>\n",
       "      <td>1</td>\n",
       "      <td>3</td>\n",
       "      <td>female</td>\n",
       "      <td>26.0</td>\n",
       "      <td>0</td>\n",
       "      <td>0</td>\n",
       "      <td>7.9250</td>\n",
       "      <td>S</td>\n",
       "      <td>Third</td>\n",
       "      <td>woman</td>\n",
       "      <td>False</td>\n",
       "      <td>NaN</td>\n",
       "      <td>Southampton</td>\n",
       "      <td>yes</td>\n",
       "      <td>True</td>\n",
       "    </tr>\n",
       "    <tr>\n",
       "      <th>3</th>\n",
       "      <td>1</td>\n",
       "      <td>1</td>\n",
       "      <td>female</td>\n",
       "      <td>35.0</td>\n",
       "      <td>1</td>\n",
       "      <td>0</td>\n",
       "      <td>53.1000</td>\n",
       "      <td>S</td>\n",
       "      <td>First</td>\n",
       "      <td>woman</td>\n",
       "      <td>False</td>\n",
       "      <td>C</td>\n",
       "      <td>Southampton</td>\n",
       "      <td>yes</td>\n",
       "      <td>False</td>\n",
       "    </tr>\n",
       "    <tr>\n",
       "      <th>4</th>\n",
       "      <td>0</td>\n",
       "      <td>3</td>\n",
       "      <td>male</td>\n",
       "      <td>35.0</td>\n",
       "      <td>0</td>\n",
       "      <td>0</td>\n",
       "      <td>8.0500</td>\n",
       "      <td>S</td>\n",
       "      <td>Third</td>\n",
       "      <td>man</td>\n",
       "      <td>True</td>\n",
       "      <td>NaN</td>\n",
       "      <td>Southampton</td>\n",
       "      <td>no</td>\n",
       "      <td>True</td>\n",
       "    </tr>\n",
       "  </tbody>\n",
       "</table>\n",
       "</div>"
      ],
      "text/plain": [
       "   survived  pclass     sex   age  sibsp  parch     fare embarked  class  \\\n",
       "0         0       3    male  22.0      1      0   7.2500        S  Third   \n",
       "1         1       1  female  38.0      1      0  71.2833        C  First   \n",
       "2         1       3  female  26.0      0      0   7.9250        S  Third   \n",
       "3         1       1  female  35.0      1      0  53.1000        S  First   \n",
       "4         0       3    male  35.0      0      0   8.0500        S  Third   \n",
       "\n",
       "     who  adult_male deck  embark_town alive  alone  \n",
       "0    man        True  NaN  Southampton    no  False  \n",
       "1  woman       False    C    Cherbourg   yes  False  \n",
       "2  woman       False  NaN  Southampton   yes   True  \n",
       "3  woman       False    C  Southampton   yes  False  \n",
       "4    man        True  NaN  Southampton    no   True  "
      ]
     },
     "execution_count": 12,
     "metadata": {},
     "output_type": "execute_result"
    }
   ],
   "source": [
    "import pandas as pd\n",
    "import seaborn as sns\n",
    "\n",
    "df = sns.load_dataset('titanic')\n",
    "df.head()"
   ]
  },
  {
   "cell_type": "code",
   "execution_count": null,
   "id": "11600307",
   "metadata": {},
   "outputs": [
    {
     "data": {
      "text/html": [
       "<div>\n",
       "<style scoped>\n",
       "    .dataframe tbody tr th:only-of-type {\n",
       "        vertical-align: middle;\n",
       "    }\n",
       "\n",
       "    .dataframe tbody tr th {\n",
       "        vertical-align: top;\n",
       "    }\n",
       "\n",
       "    .dataframe thead th {\n",
       "        text-align: right;\n",
       "    }\n",
       "</style>\n",
       "<table border=\"1\" class=\"dataframe\">\n",
       "  <thead>\n",
       "    <tr style=\"text-align: right;\">\n",
       "      <th></th>\n",
       "      <th>survived</th>\n",
       "      <th>pclass</th>\n",
       "      <th>age</th>\n",
       "      <th>sibsp</th>\n",
       "      <th>parch</th>\n",
       "      <th>fare</th>\n",
       "    </tr>\n",
       "  </thead>\n",
       "  <tbody>\n",
       "    <tr>\n",
       "      <th>count</th>\n",
       "      <td>891.000000</td>\n",
       "      <td>891.000000</td>\n",
       "      <td>714.000000</td>\n",
       "      <td>891.000000</td>\n",
       "      <td>891.000000</td>\n",
       "      <td>891.000000</td>\n",
       "    </tr>\n",
       "    <tr>\n",
       "      <th>mean</th>\n",
       "      <td>0.383838</td>\n",
       "      <td>2.308642</td>\n",
       "      <td>29.699118</td>\n",
       "      <td>0.523008</td>\n",
       "      <td>0.381594</td>\n",
       "      <td>32.204208</td>\n",
       "    </tr>\n",
       "    <tr>\n",
       "      <th>std</th>\n",
       "      <td>0.486592</td>\n",
       "      <td>0.836071</td>\n",
       "      <td>14.526497</td>\n",
       "      <td>1.102743</td>\n",
       "      <td>0.806057</td>\n",
       "      <td>49.693429</td>\n",
       "    </tr>\n",
       "    <tr>\n",
       "      <th>min</th>\n",
       "      <td>0.000000</td>\n",
       "      <td>1.000000</td>\n",
       "      <td>0.420000</td>\n",
       "      <td>0.000000</td>\n",
       "      <td>0.000000</td>\n",
       "      <td>0.000000</td>\n",
       "    </tr>\n",
       "    <tr>\n",
       "      <th>25%</th>\n",
       "      <td>0.000000</td>\n",
       "      <td>2.000000</td>\n",
       "      <td>20.125000</td>\n",
       "      <td>0.000000</td>\n",
       "      <td>0.000000</td>\n",
       "      <td>7.910400</td>\n",
       "    </tr>\n",
       "    <tr>\n",
       "      <th>50%</th>\n",
       "      <td>0.000000</td>\n",
       "      <td>3.000000</td>\n",
       "      <td>28.000000</td>\n",
       "      <td>0.000000</td>\n",
       "      <td>0.000000</td>\n",
       "      <td>14.454200</td>\n",
       "    </tr>\n",
       "    <tr>\n",
       "      <th>75%</th>\n",
       "      <td>1.000000</td>\n",
       "      <td>3.000000</td>\n",
       "      <td>38.000000</td>\n",
       "      <td>1.000000</td>\n",
       "      <td>0.000000</td>\n",
       "      <td>31.000000</td>\n",
       "    </tr>\n",
       "    <tr>\n",
       "      <th>max</th>\n",
       "      <td>1.000000</td>\n",
       "      <td>3.000000</td>\n",
       "      <td>80.000000</td>\n",
       "      <td>8.000000</td>\n",
       "      <td>6.000000</td>\n",
       "      <td>512.329200</td>\n",
       "    </tr>\n",
       "  </tbody>\n",
       "</table>\n",
       "</div>"
      ],
      "text/plain": [
       "         survived      pclass         age       sibsp       parch        fare\n",
       "count  891.000000  891.000000  714.000000  891.000000  891.000000  891.000000\n",
       "mean     0.383838    2.308642   29.699118    0.523008    0.381594   32.204208\n",
       "std      0.486592    0.836071   14.526497    1.102743    0.806057   49.693429\n",
       "min      0.000000    1.000000    0.420000    0.000000    0.000000    0.000000\n",
       "25%      0.000000    2.000000   20.125000    0.000000    0.000000    7.910400\n",
       "50%      0.000000    3.000000   28.000000    0.000000    0.000000   14.454200\n",
       "75%      1.000000    3.000000   38.000000    1.000000    0.000000   31.000000\n",
       "max      1.000000    3.000000   80.000000    8.000000    6.000000  512.329200"
      ]
     },
     "execution_count": 8,
     "metadata": {},
     "output_type": "execute_result"
    }
   ],
   "source": [
    "df.describe()"
   ]
  },
  {
   "cell_type": "code",
   "execution_count": 9,
   "id": "b4a32220",
   "metadata": {},
   "outputs": [],
   "source": [
    "# i have to make a table of absolute, relative(%) and cumulative frequencies for columns survived, pclass and age\n",
    "total_survived = df['survived'].value_counts()\n",
    "total_pclass = df['pclass'].value_counts()\n",
    "total_age = df['age'].value_counts()\n",
    "\n",
    "relative_survived = total_survived / total_survived.sum() * 100\n",
    "relative_pclass = total_pclass / total_pclass.sum() * 100\n",
    "relative_age = total_age / total_age.sum() * 100\n",
    "\n",
    "cumulative_survived = total_survived.cumsum()\n",
    "cumulative_pclass = total_pclass.cumsum()   \n",
    "cumulative_age = total_age.cumsum()\n",
    "\n"
   ]
  },
  {
   "cell_type": "code",
   "execution_count": 10,
   "id": "ab149f49",
   "metadata": {},
   "outputs": [
    {
     "name": "stdout",
     "output_type": "stream",
     "text": [
      "Survived Frequency Table:\n",
      "    Survived_value  Absolute Frequency  Relative Frequency (%)  \\\n",
      "0               0                 549               61.616162   \n",
      "1               1                 342               38.383838   \n",
      "\n",
      "   Cumulative Frequency  \n",
      "0                   549  \n",
      "1                   891  \n",
      "\n",
      "Pclass Frequency Table:\n",
      "    Pclass_value  Absolute Frequency  Relative Frequency (%)  \\\n",
      "0             1                 216               24.242424   \n",
      "1             2                 184               20.650954   \n",
      "2             3                 491               55.106622   \n",
      "\n",
      "   Cumulative Frequency  \n",
      "0                   216  \n",
      "1                   400  \n",
      "2                   891  \n",
      "\n",
      "Age Frequency Table:\n",
      "     Age_value  Absolute Frequency  Relative Frequency (%)  \\\n",
      "0        0.42                   1                0.140056   \n",
      "1        0.67                   1                0.140056   \n",
      "2        0.75                   2                0.280112   \n",
      "3        0.83                   2                0.280112   \n",
      "4        0.92                   1                0.140056   \n",
      "..        ...                 ...                     ...   \n",
      "83      70.00                   2                0.280112   \n",
      "84      70.50                   1                0.140056   \n",
      "85      71.00                   2                0.280112   \n",
      "86      74.00                   1                0.140056   \n",
      "87      80.00                   1                0.140056   \n",
      "\n",
      "    Cumulative Frequency  \n",
      "0                      1  \n",
      "1                      2  \n",
      "2                      4  \n",
      "3                      6  \n",
      "4                      7  \n",
      "..                   ...  \n",
      "83                   709  \n",
      "84                   710  \n",
      "85                   712  \n",
      "86                   713  \n",
      "87                   714  \n",
      "\n",
      "[88 rows x 4 columns]\n"
     ]
    }
   ],
   "source": [
    "def frequency_table(series, column_name):\n",
    "    absolute = series.value_counts().sort_index()\n",
    "    relative = (absolute / absolute.sum()) * 100\n",
    "    cumulative = absolute.cumsum()\n",
    "\n",
    "    freq_df = pd.DataFrame({\n",
    "        f'{column_name}_value': absolute.index,\n",
    "        'Absolute Frequency': absolute.values,\n",
    "        'Relative Frequency (%)': relative.values,\n",
    "        'Cumulative Frequency': cumulative.values\n",
    "    })\n",
    "\n",
    "    return freq_df\n",
    "\n",
    "survived_freq = frequency_table(df['survived'], 'Survived')\n",
    "pclass_freq = frequency_table(df['pclass'], 'Pclass')\n",
    "age_freq = frequency_table(df['age'], 'Age')\n",
    "\n",
    "print(\"Survived Frequency Table:\\n\", survived_freq)\n",
    "print(\"\\nPclass Frequency Table:\\n\", pclass_freq)\n",
    "print(\"\\nAge Frequency Table:\\n\", age_freq)\n"
   ]
  },
  {
   "cell_type": "code",
   "execution_count": 24,
   "id": "14612516",
   "metadata": {},
   "outputs": [],
   "source": [
    "male_survived = sum(df[df['sex'] == 'male']['survived'] == 1)\n",
    "female_survived = sum(df[df['sex'] == 'female']['survived'] == 1)\n",
    "\n",
    "total = len(df)\n",
    "male_unsurvived = total - male_survived\n",
    "female_unsurvived = total - female_survived\n",
    "\n",
    "total_survived = male_survived + female_survived\n",
    "total_unsurvived = male_unsurvived + female_unsurvived\n"
   ]
  },
  {
   "cell_type": "code",
   "execution_count": 25,
   "id": "42ba633e",
   "metadata": {},
   "outputs": [
    {
     "name": "stdout",
     "output_type": "stream",
     "text": [
      "                  Male  Female  Total\n",
      "0  Survived == 0   109     233    342\n",
      "1  Survived == 1   782     658   1440\n",
      "2          Total   891     891   1782\n"
     ]
    }
   ],
   "source": [
    "data = {\n",
    "    '':['Survived == 0', 'Survived == 1', 'Total'],\n",
    "    'Male': [male_survived, male_unsurvived, male_survived + male_unsurvived],\n",
    "    'Female': [female_survived, female_unsurvived, female_survived + female_unsurvived],\n",
    "    'Total': [total_survived, total_unsurvived, total_survived + total_unsurvived]\n",
    "}\n",
    "\n",
    "survival_table = pd.DataFrame(data)\n",
    "print(survival_table)"
   ]
  },
  {
   "cell_type": "code",
   "execution_count": 34,
   "id": "040d9259",
   "metadata": {},
   "outputs": [
    {
     "name": "stdout",
     "output_type": "stream",
     "text": [
      "Joint Probability is 0.2615\n"
     ]
    }
   ],
   "source": [
    "# Joint Probability\n",
    "# P(Sex == Female, Survived == 1)\n",
    "# intersection / total\n",
    "joint_prob = sum(df[df['sex'] == 'female']['survived'] == 1) / total\n",
    "print(f\"Joint Probability is {joint_prob:.4f}\")"
   ]
  },
  {
   "cell_type": "code",
   "execution_count": 30,
   "id": "6255962b",
   "metadata": {},
   "outputs": [
    {
     "name": "stdout",
     "output_type": "stream",
     "text": [
      "Marginal Probability of sex = female: 0.35241301907968575%\n",
      "Marginal Probability of survived = 1: 0.3838383838383838%\n"
     ]
    }
   ],
   "source": [
    "# Marginal probabilities\n",
    "# P(Sex == Female)\n",
    "marginal_prob1 = df[df['sex'] == 'female'].shape[0] / total\n",
    "\n",
    "# P(Survived == 1)\n",
    "marginal_prob2 = df[df['survived'] == 1].shape[0] / total\n",
    "\n",
    "print(f\"Marginal Probability of sex = female: {marginal_prob1}%\")\n",
    "print(f\"Marginal Probability of survived = 1: {marginal_prob2}%\")"
   ]
  },
  {
   "cell_type": "code",
   "execution_count": null,
   "id": "8db49cce",
   "metadata": {},
   "outputs": [
    {
     "name": "stdout",
     "output_type": "stream",
     "text": [
      "Conditional Probabilities are : 0.7420382165605096% and 0.6812865497076024%\n"
     ]
    }
   ],
   "source": [
    "# Conditional Probability\n",
    "# P(Sex = Female| Survived = 1)\n",
    "# ans = P(Sex = Female & Survived = 1) / P(survived = 1)\n",
    "sex_female_survived = female_survived / df[df['survived'] == 1].shape[0]\n",
    "\n",
    "# P(A | B) = P(B | A) * P(A) / P(B)\n",
    "undhu = sex_female_survived * df[df['survived'] == 1].shape[0] / df[df['sex'] == 'female'].shape[0]\n",
    "\n",
    "print(f\"Conditional Probabilities are : {undhu}% and {sex_female_survived}%\")"
   ]
  },
  {
   "cell_type": "code",
   "execution_count": 37,
   "id": "b64b22bb",
   "metadata": {},
   "outputs": [
    {
     "name": "stdout",
     "output_type": "stream",
     "text": [
      "survived    0    1\n",
      "sex               \n",
      "female     81  233\n",
      "male      468  109\n"
     ]
    }
   ],
   "source": [
    "# i saw crosstab after implementing the above code\n",
    "crosstab = pd.crosstab(df['sex'], df['survived'])\n",
    "print(crosstab)"
   ]
  },
  {
   "cell_type": "code",
   "execution_count": 39,
   "id": "54d8f685",
   "metadata": {},
   "outputs": [
    {
     "name": "stdout",
     "output_type": "stream",
     "text": [
      "Null values in 'age': 177\n",
      "Null values in 'fare': 0\n"
     ]
    }
   ],
   "source": [
    "# check if there are null values in the age and fare columns\n",
    "null_age = df['age'].isnull().sum()\n",
    "null_fare = df['fare'].isnull().sum()\n",
    "print(f\"Null values in 'age': {null_age}\")\n",
    "print(f\"Null values in 'fare': {null_fare}\")"
   ]
  },
  {
   "cell_type": "code",
   "execution_count": 45,
   "id": "06603a1b",
   "metadata": {},
   "outputs": [
    {
     "name": "stdout",
     "output_type": "stream",
     "text": [
      "Pearson correlation between age and fare:\n",
      "           age      fare\n",
      "age   1.000000  0.096688\n",
      "fare  0.096688  1.000000\n"
     ]
    },
    {
     "data": {
      "image/png": "[encoded data removed]",
      "text/plain": [
       "<Figure size 570.486x500 with 7 Axes>"
      ]
     },
     "metadata": {},
     "output_type": "display_data"
    }
   ],
   "source": [
    "# so i need to fill the null values in age using median\n",
    "df['age'] = df['age'].fillna(df['age'].median())  \n",
    "\n",
    "# Finding pearson correlation between age and fare\n",
    "pearson = df[['age', 'fare']].corr(method='pearson')\n",
    "print(f\"Pearson correlation between age and fare:\\n{pearson}\")\n",
    "\n",
    "sns.pairplot(df, hue='survived', vars=['age', 'fare'])\n",
    "sns.heatmap(df[['age', 'fare']].corr())\n",
    "import matplotlib.pyplot as plt\n",
    "plt.scatter(df['age'], df['fare'], c=df['survived'])\n",
    "plt.show()\n"
   ]
  },
  {
   "cell_type": "markdown",
   "id": "f61c8079",
   "metadata": {},
   "source": [
    "So the interpretation is that age and fare are strongly correlated and directly proportional"
   ]
  }
 ],
 "metadata": {
  "kernelspec": {
   "display_name": "ai-gpu",
   "language": "python",
   "name": "python3"
  },
  "language_info": {
   "codemirror_mode": {
    "name": "ipython",
    "version": 3
   },
   "file_extension": ".py",
   "mimetype": "text/x-python",
   "name": "python",
   "nbconvert_exporter": "python",
   "pygments_lexer": "ipython3",
   "version": "3.9.21"
  }
 },
 "nbformat": 4,
 "nbformat_minor": 5
}
